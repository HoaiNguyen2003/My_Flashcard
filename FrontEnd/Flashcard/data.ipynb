{
 "cells": [
  {
   "cell_type": "code",
   "execution_count": 1,
   "metadata": {},
   "outputs": [
    {
     "name": "stdout",
     "output_type": "stream",
     "text": [
      "Data has been written to 'data.txt'\n"
     ]
    }
   ],
   "source": [
    "import json\n",
    "\n",
    "# Đây là dữ liệu mẫu giống như bạn cung cấp\n",
    "data = {\n",
    "    \"data\": [\n",
    "  { \"PackageId\": 1, \"Name\": \"English\" },\n",
    "  { \"PackageId\": 2, \"Name\": \"Mathematics\" },\n",
    "  { \"PackageId\": 3, \"Name\": \"Science\" },\n",
    "  { \"PackageId\": 4, \"Name\": \"English\" },\n",
    "  { \"PackageId\": 5, \"Name\": \"Mathematics\" },\n",
    "  { \"PackageId\": 6, \"Name\": \"Science\" },\n",
    "  { \"PackageId\": 7, \"Name\": \"English\" },\n",
    "  { \"PackageId\": 8, \"Name\": \"Mathematics\" },\n",
    "  { \"PackageId\": 9, \"Name\": \"Science\" }\n",
    "]\n",
    "\n",
    "}\n",
    "\n",
    "# Chuyển dữ liệu thành chuỗi JSON\n",
    "json_string = json.dumps(data, indent=4)\n",
    "\n",
    "# Ghi dữ liệu vào file\n",
    "with open('data.txt', 'w') as file:\n",
    "    file.write(json_string)\n",
    "\n",
    "print(\"Data has been written to 'data.txt'\")\n"
   ]
  },
  {
   "cell_type": "code",
   "execution_count": 4,
   "metadata": {},
   "outputs": [
    {
     "name": "stdout",
     "output_type": "stream",
     "text": [
      "{\n",
      "    \"data\": [\n",
      "        {\n",
      "            \"PackageId\": 1,\n",
      "            \"Name\": \"English\"\n",
      "        },\n",
      "        {\n",
      "            \"PackageId\": 2,\n",
      "            \"Name\": \"Mathematics\"\n",
      "        },\n",
      "        {\n",
      "            \"PackageId\": 3,\n",
      "            \"Name\": \"Science\"\n",
      "        },\n",
      "        {\n",
      "            \"PackageId\": 4,\n",
      "            \"Name\": \"English\"\n",
      "        },\n",
      "        {\n",
      "            \"PackageId\": 5,\n",
      "            \"Name\": \"Mathematics\"\n",
      "        },\n",
      "        {\n",
      "            \"PackageId\": 6,\n",
      "            \"Name\": \"Science\"\n",
      "        },\n",
      "        {\n",
      "            \"PackageId\": 7,\n",
      "            \"Name\": \"English\"\n",
      "        },\n",
      "        {\n",
      "            \"PackageId\": 8,\n",
      "            \"Name\": \"Mathematics\"\n",
      "        },\n",
      "        {\n",
      "            \"PackageId\": 9,\n",
      "            \"Name\": \"Science\"\n",
      "        }\n",
      "    ]\n",
      "}\n"
     ]
    }
   ],
   "source": [
    "# Đọc và in nội dung của file data.txt\n",
    "with open('data.txt', 'r') as file:\n",
    "    content = file.read()\n",
    "    print(content)\n"
   ]
  },
  {
   "cell_type": "code",
   "execution_count": null,
   "metadata": {},
   "outputs": [],
   "source": []
  }
 ],
 "metadata": {
  "kernelspec": {
   "display_name": "Python 3",
   "language": "python",
   "name": "python3"
  },
  "language_info": {
   "codemirror_mode": {
    "name": "ipython",
    "version": 3
   },
   "file_extension": ".py",
   "mimetype": "text/x-python",
   "name": "python",
   "nbconvert_exporter": "python",
   "pygments_lexer": "ipython3",
   "version": "3.11.5"
  }
 },
 "nbformat": 4,
 "nbformat_minor": 2
}
